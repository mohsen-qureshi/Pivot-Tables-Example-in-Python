{
 "cells": [
  {
   "cell_type": "code",
   "execution_count": 1,
   "id": "59cbc00d",
   "metadata": {},
   "outputs": [],
   "source": [
    "import pandas as pd\n",
    "import numpy as np\n",
    "import os\n",
    "\n",
    "from pandas.core.tools.timedeltas import to_timedelta"
   ]
  },
  {
   "cell_type": "code",
   "execution_count": 2,
   "id": "72334669",
   "metadata": {},
   "outputs": [],
   "source": [
    "###\n",
    "###PIVOTING TABLES PROGRAM###\n",
    "###\n",
    "\n",
    "\n",
    "\n",
    "###READ THE FILE###\n",
    "df = pd.read_csv(r'C:\\Users\\Mohsen\\Downloads\\January 2022.xlsx - MasterSheet Jan 2022 (7).csv')\n",
    "#print(df.head())"
   ]
  },
  {
   "cell_type": "code",
   "execution_count": 3,
   "id": "fa53f37d",
   "metadata": {},
   "outputs": [
    {
     "name": "stdout",
     "output_type": "stream",
     "text": [
      "Overall Result\n",
      "ABANDONED      74\n",
      "FAIL         1004\n",
      "PASS         5169\n",
      "Name: Total, dtype: int64\n"
     ]
    }
   ],
   "source": [
    "#############################\n",
    "###SUMMARY SHEET TABLES:::###\n",
    "\n",
    "###OVERALL RESULTS###\n",
    "pivOR = df.pivot_table(df,  index='Overall Result', aggfunc='count')\n",
    "print(pivOR.Total)"
   ]
  },
  {
   "cell_type": "code",
   "execution_count": 4,
   "id": "effc561e",
   "metadata": {},
   "outputs": [
    {
     "name": "stdout",
     "output_type": "stream",
     "text": [
      "ID Decision Result\n",
      "FAIL    3192\n",
      "PASS    3055\n",
      "Name: Total, dtype: int64\n"
     ]
    }
   ],
   "source": [
    "###IDDR###\n",
    "pivDR = df.pivot_table(df,  index='ID Decision Result', aggfunc='count')\n",
    "print(pivDR.Total)"
   ]
  },
  {
   "cell_type": "code",
   "execution_count": 5,
   "id": "9d589037",
   "metadata": {},
   "outputs": [
    {
     "name": "stdout",
     "output_type": "stream",
     "text": [
      "IQ Result\n",
      "0/4: Four Incorrect Answers          20\n",
      "1/4: Three Incorrect Answers         84\n",
      "2/4: Two Incorrect Answers          265\n",
      "3/4: One Incorrect Answer           885\n",
      "4/4: All answers correct           1167\n",
      "Abandoned                            61\n",
      "ExpectID IQ Time Out                 24\n",
      "Insufficient Data for Questions      46\n",
      "Match Restricted                     34\n",
      "Name: Total, dtype: int64\n"
     ]
    }
   ],
   "source": [
    "###IQR###\n",
    "pivQR = df.pivot_table(df,  index='IQ Result', aggfunc='count')\n",
    "print(pivQR.Total)"
   ]
  },
  {
   "cell_type": "code",
   "execution_count": 6,
   "id": "6ef255d9",
   "metadata": {},
   "outputs": [
    {
     "name": "stdout",
     "output_type": "stream",
     "text": [
      "ID Scan Status\n",
      "Abandoned         120\n",
      "Completed          68\n",
      "Indicated          56\n",
      "Not Indicated    5977\n",
      "Not Readable       26\n",
      "Name: Total, dtype: int64\n"
     ]
    }
   ],
   "source": [
    "###IDSS###\n",
    "pivSS = df.pivot_table(df,  index='ID Scan Status', aggfunc='count')\n",
    "print(pivSS.Total)"
   ]
  },
  {
   "cell_type": "code",
   "execution_count": 7,
   "id": "ca5d4ae9",
   "metadata": {},
   "outputs": [],
   "source": [
    "#df.fillna(0)\n"
   ]
  },
  {
   "cell_type": "code",
   "execution_count": 8,
   "id": "fff88720",
   "metadata": {},
   "outputs": [
    {
     "name": "stdout",
     "output_type": "stream",
     "text": [
      "Overall Result  ABANDONED  FAIL  PASS   All\n",
      "GMT                                        \n",
      "1/01/22 0:00            6    84   406   496\n",
      "1/02/22 0:00            5    87   469   561\n",
      "1/03/22 0:00            6    99   515   620\n",
      "1/04/22 0:00            8   100   592   700\n",
      "1/05/22 0:00            6   115   571   692\n",
      "1/06/22 0:00            8    88   542   638\n",
      "1/07/22 0:00           10   124   515   649\n",
      "1/08/22 0:00           11    88   500   599\n",
      "1/09/22 0:00            6    91   469   566\n",
      "1/10/22 0:00            8   128   590   726\n",
      "All                    74  1004  5169  6247\n"
     ]
    }
   ],
   "source": [
    "#####################\n",
    "###APPS BY DATE:::###\n",
    "\n",
    "###fill NA with zeroes###\n",
    "df2 = df.fillna(0)\n",
    "\n",
    "###OVERALL RESULTS APD###\n",
    "pivABDOR = pd.pivot_table(df2, index='GMT', columns='Overall Result', aggfunc=len, margins = True)\n",
    "print(pivABDOR.Total)\n"
   ]
  },
  {
   "cell_type": "code",
   "execution_count": 9,
   "id": "1417446f",
   "metadata": {},
   "outputs": [
    {
     "name": "stdout",
     "output_type": "stream",
     "text": [
      "ID Decision Result  FAIL  PASS   All\n",
      "GMT                                 \n",
      "1/01/22 0:00         257   239   496\n",
      "1/02/22 0:00         284   277   561\n",
      "1/03/22 0:00         312   308   620\n",
      "1/04/22 0:00         359   341   700\n",
      "1/05/22 0:00         381   311   692\n",
      "1/06/22 0:00         316   322   638\n",
      "1/07/22 0:00         330   319   649\n",
      "1/08/22 0:00         302   297   599\n",
      "1/09/22 0:00         271   295   566\n",
      "1/10/22 0:00         380   346   726\n",
      "All                 3192  3055  6247\n"
     ]
    }
   ],
   "source": [
    "###IDDR ABD###\n",
    "pivABDDR = pd.pivot_table(df2,  index= 'GMT', columns='ID Decision Result', aggfunc=len, margins = True)\n",
    "print(pivABDDR.Total)"
   ]
  },
  {
   "cell_type": "code",
   "execution_count": 10,
   "id": "54face83",
   "metadata": {},
   "outputs": [
    {
     "name": "stdout",
     "output_type": "stream",
     "text": [
      "             Age Result                              \\\n",
      "IQ Result             0 0/4: Four Incorrect Answers   \n",
      "GMT                                                   \n",
      "1/01/22 0:00      283.0                         3.0   \n",
      "1/02/22 0:00      323.0                         1.0   \n",
      "1/03/22 0:00      373.0                         3.0   \n",
      "1/04/22 0:00      405.0                         2.0   \n",
      "1/05/22 0:00      384.0                         2.0   \n",
      "1/06/22 0:00      372.0                         1.0   \n",
      "1/07/22 0:00      390.0                         2.0   \n",
      "1/08/22 0:00      345.0                         2.0   \n",
      "1/09/22 0:00      353.0                         NaN   \n",
      "1/10/22 0:00      433.0                         4.0   \n",
      "All              3661.0                        20.0   \n",
      "\n",
      "                                                                      \\\n",
      "IQ Result    1/4: Three Incorrect Answers 2/4: Two Incorrect Answers   \n",
      "GMT                                                                    \n",
      "1/01/22 0:00                         11.0                       19.0   \n",
      "1/02/22 0:00                          9.0                       31.0   \n",
      "1/03/22 0:00                          5.0                       20.0   \n",
      "1/04/22 0:00                          7.0                       27.0   \n",
      "1/05/22 0:00                          7.0                       24.0   \n",
      "1/06/22 0:00                          7.0                       23.0   \n",
      "1/07/22 0:00                         10.0                       36.0   \n",
      "1/08/22 0:00                         10.0                       27.0   \n",
      "1/09/22 0:00                          8.0                       29.0   \n",
      "1/10/22 0:00                         10.0                       29.0   \n",
      "All                                  84.0                      265.0   \n",
      "\n",
      "                                                                           \\\n",
      "IQ Result    3/4: One Incorrect Answer 4/4: All answers correct Abandoned   \n",
      "GMT                                                                         \n",
      "1/01/22 0:00                      70.0                     94.0       4.0   \n",
      "1/02/22 0:00                      79.0                    109.0       1.0   \n",
      "1/03/22 0:00                      87.0                    114.0       6.0   \n",
      "1/04/22 0:00                     106.0                    136.0       7.0   \n",
      "1/05/22 0:00                     118.0                    136.0       6.0   \n",
      "1/06/22 0:00                      79.0                    135.0       8.0   \n",
      "1/07/22 0:00                      77.0                    114.0       7.0   \n",
      "1/08/22 0:00                      81.0                    118.0       9.0   \n",
      "1/09/22 0:00                      78.0                     90.0       5.0   \n",
      "1/10/22 0:00                     110.0                    121.0       8.0   \n",
      "All                              885.0                   1167.0      61.0   \n",
      "\n",
      "                                                                   \\\n",
      "IQ Result    ExpectID IQ Time Out Insufficient Data for Questions   \n",
      "GMT                                                                 \n",
      "1/01/22 0:00                  4.0                             2.0   \n",
      "1/02/22 0:00                  1.0                             6.0   \n",
      "1/03/22 0:00                  4.0                             5.0   \n",
      "1/04/22 0:00                  NaN                             5.0   \n",
      "1/05/22 0:00                  3.0                             6.0   \n",
      "1/06/22 0:00                  2.0                             3.0   \n",
      "1/07/22 0:00                  4.0                             6.0   \n",
      "1/08/22 0:00                  2.0                             4.0   \n",
      "1/09/22 0:00                  NaN                             3.0   \n",
      "1/10/22 0:00                  4.0                             6.0   \n",
      "All                          24.0                            46.0   \n",
      "\n",
      "                               ...             Velocity Result  \\\n",
      "IQ Result    Match Restricted  ... 0/4: Four Incorrect Answers   \n",
      "GMT                            ...                               \n",
      "1/01/22 0:00              6.0  ...                         3.0   \n",
      "1/02/22 0:00              1.0  ...                         1.0   \n",
      "1/03/22 0:00              3.0  ...                         3.0   \n",
      "1/04/22 0:00              5.0  ...                         2.0   \n",
      "1/05/22 0:00              6.0  ...                         2.0   \n",
      "1/06/22 0:00              8.0  ...                         1.0   \n",
      "1/07/22 0:00              3.0  ...                         2.0   \n",
      "1/08/22 0:00              1.0  ...                         2.0   \n",
      "1/09/22 0:00              NaN  ...                         NaN   \n",
      "1/10/22 0:00              1.0  ...                         4.0   \n",
      "All                      34.0  ...                        20.0   \n",
      "\n",
      "                                                                      \\\n",
      "IQ Result    1/4: Three Incorrect Answers 2/4: Two Incorrect Answers   \n",
      "GMT                                                                    \n",
      "1/01/22 0:00                         11.0                       19.0   \n",
      "1/02/22 0:00                          9.0                       31.0   \n",
      "1/03/22 0:00                          5.0                       20.0   \n",
      "1/04/22 0:00                          7.0                       27.0   \n",
      "1/05/22 0:00                          7.0                       24.0   \n",
      "1/06/22 0:00                          7.0                       23.0   \n",
      "1/07/22 0:00                         10.0                       36.0   \n",
      "1/08/22 0:00                         10.0                       27.0   \n",
      "1/09/22 0:00                          8.0                       29.0   \n",
      "1/10/22 0:00                         10.0                       29.0   \n",
      "All                                  84.0                      265.0   \n",
      "\n",
      "                                                                           \\\n",
      "IQ Result    3/4: One Incorrect Answer 4/4: All answers correct Abandoned   \n",
      "GMT                                                                         \n",
      "1/01/22 0:00                      70.0                     94.0       4.0   \n",
      "1/02/22 0:00                      79.0                    109.0       1.0   \n",
      "1/03/22 0:00                      87.0                    114.0       6.0   \n",
      "1/04/22 0:00                     106.0                    136.0       7.0   \n",
      "1/05/22 0:00                     118.0                    136.0       6.0   \n",
      "1/06/22 0:00                      79.0                    135.0       8.0   \n",
      "1/07/22 0:00                      77.0                    114.0       7.0   \n",
      "1/08/22 0:00                      81.0                    118.0       9.0   \n",
      "1/09/22 0:00                      78.0                     90.0       5.0   \n",
      "1/10/22 0:00                     110.0                    121.0       8.0   \n",
      "All                              885.0                   1167.0      61.0   \n",
      "\n",
      "                                                                   \\\n",
      "IQ Result    ExpectID IQ Time Out Insufficient Data for Questions   \n",
      "GMT                                                                 \n",
      "1/01/22 0:00                  4.0                             2.0   \n",
      "1/02/22 0:00                  1.0                             6.0   \n",
      "1/03/22 0:00                  4.0                             5.0   \n",
      "1/04/22 0:00                  NaN                             5.0   \n",
      "1/05/22 0:00                  3.0                             6.0   \n",
      "1/06/22 0:00                  2.0                             3.0   \n",
      "1/07/22 0:00                  4.0                             6.0   \n",
      "1/08/22 0:00                  2.0                             4.0   \n",
      "1/09/22 0:00                  NaN                             3.0   \n",
      "1/10/22 0:00                  4.0                             6.0   \n",
      "All                          24.0                            46.0   \n",
      "\n",
      "                                     \n",
      "IQ Result    Match Restricted   All  \n",
      "GMT                                  \n",
      "1/01/22 0:00              6.0   496  \n",
      "1/02/22 0:00              1.0   561  \n",
      "1/03/22 0:00              3.0   620  \n",
      "1/04/22 0:00              5.0   700  \n",
      "1/05/22 0:00              6.0   692  \n",
      "1/06/22 0:00              8.0   638  \n",
      "1/07/22 0:00              3.0   649  \n",
      "1/08/22 0:00              1.0   599  \n",
      "1/09/22 0:00              NaN   566  \n",
      "1/10/22 0:00              1.0   726  \n",
      "All                      34.0  6247  \n",
      "\n",
      "[11 rows x 1265 columns]\n"
     ]
    }
   ],
   "source": [
    "###IQR ABD###\n",
    "pivABDQR = pd.pivot_table(df2,  index= 'GMT', columns='IQ Result', aggfunc='count', margins = True)\n",
    "print(pivABDQR)\n",
    "#print(pivABDQR)"
   ]
  },
  {
   "cell_type": "code",
   "execution_count": 11,
   "id": "af124a14",
   "metadata": {},
   "outputs": [
    {
     "name": "stdout",
     "output_type": "stream",
     "text": [
      "ID Scan Status  Abandoned  Completed  Indicated  Not Indicated  Not Readable  \\\n",
      "GMT                                                                            \n",
      "1/01/22 0:00         23.0        3.0        NaN          468.0           2.0   \n",
      "1/02/22 0:00         10.0        5.0        7.0          537.0           2.0   \n",
      "1/03/22 0:00          9.0        7.0        5.0          598.0           1.0   \n",
      "1/04/22 0:00          5.0       10.0        7.0          674.0           4.0   \n",
      "1/05/22 0:00          6.0        7.0        6.0          668.0           5.0   \n",
      "1/06/22 0:00          4.0        6.0        8.0          618.0           2.0   \n",
      "1/07/22 0:00         23.0        5.0        NaN          618.0           3.0   \n",
      "1/08/22 0:00         17.0        5.0        NaN          575.0           2.0   \n",
      "1/09/22 0:00         12.0        6.0        4.0          540.0           4.0   \n",
      "1/10/22 0:00         11.0       14.0       19.0          681.0           1.0   \n",
      "All                 120.0       68.0       56.0         5977.0          26.0   \n",
      "\n",
      "ID Scan Status   All  \n",
      "GMT                   \n",
      "1/01/22 0:00     496  \n",
      "1/02/22 0:00     561  \n",
      "1/03/22 0:00     620  \n",
      "1/04/22 0:00     700  \n",
      "1/05/22 0:00     692  \n",
      "1/06/22 0:00     638  \n",
      "1/07/22 0:00     649  \n",
      "1/08/22 0:00     599  \n",
      "1/09/22 0:00     566  \n",
      "1/10/22 0:00     726  \n",
      "All             6247  \n"
     ]
    }
   ],
   "source": [
    "###IDSS ABD###\n",
    "pivABDSS = pd.pivot_table(df2,  index= 'GMT', columns='ID Scan Status', aggfunc='count', margins = True)\n",
    "print(pivABDSS.Total)"
   ]
  }
 ],
 "metadata": {
  "kernelspec": {
   "display_name": "Python 3 (ipykernel)",
   "language": "python",
   "name": "python3"
  },
  "language_info": {
   "codemirror_mode": {
    "name": "ipython",
    "version": 3
   },
   "file_extension": ".py",
   "mimetype": "text/x-python",
   "name": "python",
   "nbconvert_exporter": "python",
   "pygments_lexer": "ipython3",
   "version": "3.9.7"
  }
 },
 "nbformat": 4,
 "nbformat_minor": 5
}
